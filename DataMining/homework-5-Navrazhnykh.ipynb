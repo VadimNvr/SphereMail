{
 "cells": [
  {
   "cell_type": "markdown",
   "metadata": {},
   "source": [
    "# Домашнее задание 5. Линейные модели"
   ]
  },
  {
   "cell_type": "code",
   "execution_count": 69,
   "metadata": {
    "collapsed": false
   },
   "outputs": [
    {
     "name": "stdout",
     "output_type": "stream",
     "text": [
      "Populating the interactive namespace from numpy and matplotlib\n"
     ]
    },
    {
     "name": "stderr",
     "output_type": "stream",
     "text": [
      "WARNING: pylab import has clobbered these variables: ['f']\n",
      "`%matplotlib` prevents importing * from pylab and numpy\n"
     ]
    }
   ],
   "source": [
    "import random as pr\n",
    "import numpy as np\n",
    "import pandas as pd\n",
    "import matplotlib.pylab as pl\n",
    "import sklearn.cross_validation as cv\n",
    "import sklearn.metrics as sm\n",
    "from sklearn.cross_validation import KFold\n",
    "from sklearn.metrics import roc_auc_score\n",
    "from sklearn.metrics import roc_curve\n",
    "from sklearn.feature_extraction.text import TfidfTransformer\n",
    "from xgboost import XGBClassifier\n",
    "\n",
    "import scipy\n",
    "from scipy import sparse\n",
    "\n",
    "from sklearn.naive_bayes import MultinomialNB\n",
    "from sklearn.naive_bayes import GaussianNB\n",
    "from sklearn.naive_bayes import BernoulliNB\n",
    "\n",
    "from sklearn.svm import SVR\n",
    "from sklearn.svm import SVC\n",
    "from sklearn.svm import LinearSVC\n",
    "\n",
    "from sklearn.decomposition import PCA\n",
    "from sklearn.decomposition import LatentDirichletAllocation\n",
    "\n",
    "from sklearn.feature_selection import SelectFromModel\n",
    "from sklearn.feature_selection import SelectKBest\n",
    "from sklearn.feature_selection import chi2\n",
    "\n",
    "from sklearn.preprocessing import StandardScaler\n",
    "\n",
    "# Plotting config\n",
    "%pylab inline"
   ]
  },
  {
   "cell_type": "markdown",
   "metadata": {},
   "source": [
    "Зачитываем результат 4 домашки"
   ]
  },
  {
   "cell_type": "code",
   "execution_count": 51,
   "metadata": {
    "collapsed": false
   },
   "outputs": [],
   "source": [
    "data = np.load(\"files/out_4_stem_3grams.dat.npz\")\n",
    "users = data[\"users\"]\n",
    "features = data[\"features\"]\n",
    "#sentiments = data[\"sentiments\"]\n",
    "X_dataset = data[\"data\"].reshape(1,)[0]"
   ]
  },
  {
   "cell_type": "markdown",
   "metadata": {},
   "source": [
    "Зачитываем категории пользователей"
   ]
  },
  {
   "cell_type": "code",
   "execution_count": 52,
   "metadata": {
    "collapsed": false
   },
   "outputs": [
    {
     "name": "stderr",
     "output_type": "stream",
     "text": [
      "/Users/vadim/anaconda/lib/python2.7/site-packages/ipykernel/__main__.py:4: FutureWarning: sort(columns=....) is deprecated, use sort_values(by=.....)\n",
      "/Users/vadim/anaconda/lib/python2.7/site-packages/ipykernel/__main__.py:5: FutureWarning: sort(columns=....) is deprecated, use sort_values(by=.....)\n",
      "/Users/vadim/anaconda/lib/python2.7/site-packages/ipykernel/__main__.py:7: FutureWarning: sort(columns=....) is deprecated, use sort_values(by=.....)\n"
     ]
    }
   ],
   "source": [
    "TRAINING_SET_URL = \"twitter_train.txt\"\n",
    "EXAMPLE_SET_URL = \"twitter_example.txt\"\n",
    "\n",
    "df_users_train = pd.read_csv(TRAINING_SET_URL, sep=\",\", header=0).sort('uid')\n",
    "df_users_ex = pd.read_csv(EXAMPLE_SET_URL, sep=\",\", header=0).sort('uid')\n",
    "df_users_ex['cat'] = None\n",
    "df_users = pd.concat([df_users_train, df_users_ex]).sort('uid')"
   ]
  },
  {
   "cell_type": "markdown",
   "metadata": {},
   "source": [
    "Модель строим для пользователей из twitter_train, нужно выбрать этих пользователей из матрицы из 4 ДЗ:"
   ]
  },
  {
   "cell_type": "code",
   "execution_count": 785,
   "metadata": {
    "collapsed": false
   },
   "outputs": [
    {
     "data": {
      "image/png": "[encoded data removed]",
      "text/plain": [
       "<matplotlib.figure.Figure at 0x1972f9490>"
      ]
     },
     "metadata": {},
     "output_type": "display_data"
    }
   ],
   "source": [
    "def draw_log_hist(x):\n",
    "    \"\"\"Draw tokens histogram in log scales\"\"\"\n",
    "    res = np.sort(x.sum(axis=0).tolist()[0])[::-1].astype(int)\n",
    "    \n",
    "    data = np.trim_zeros(res)\n",
    "    pl.figure(figsize=(12, 6))\n",
    "    pl.scatter(np.arange(len(data)), data , c='blue', edgecolors='none')\n",
    "    pl.axes().set_yscale('log')\n",
    "    pl.axes().set_xscale('log')\n",
    "    pl.xlim((1, len(data)))\n",
    "    pl.show()\n",
    "    \n",
    "    return res\n",
    "\n",
    "features_counts = draw_log_hist(X_dataset)"
   ]
  },
  {
   "cell_type": "markdown",
   "metadata": {},
   "source": [
    "Удаляем пустых"
   ]
  },
  {
   "cell_type": "code",
   "execution_count": 53,
   "metadata": {
    "collapsed": false
   },
   "outputs": [],
   "source": [
    "train_users = df_users_train[\"uid\"].values\n",
    "test_users  = df_users_ex['uid'].values\n",
    "\n",
    "Y_train = df_users_train[\"cat\"].values\n",
    "\n",
    "train_rows = np.where(np.in1d(users, train_users))[0]\n",
    "test_rows  = np.where(np.in1d(users, test_users))[0]"
   ]
  },
  {
   "cell_type": "code",
   "execution_count": 54,
   "metadata": {
    "collapsed": false
   },
   "outputs": [],
   "source": [
    "unknown = np.where(X_dataset.sum(axis=1)==0)[0]\n",
    "known   = np.where(X_dataset.sum(axis=1)!=0)[0]\n",
    "\n",
    "unknown_train = train_rows[np.in1d(train_rows, unknown)]\n",
    "known_train   = train_rows[np.in1d(train_rows, known)]\n",
    "\n",
    "unknown_test  = test_rows[np.in1d(test_rows, unknown)]\n",
    "known_test    = test_rows[np.in1d(test_rows, known)]"
   ]
  },
  {
   "cell_type": "code",
   "execution_count": 55,
   "metadata": {
    "collapsed": false
   },
   "outputs": [],
   "source": [
    "X1_dataset = TfidfTransformer().fit_transform(X_dataset[known])"
   ]
  },
  {
   "cell_type": "code",
   "execution_count": 56,
   "metadata": {
    "collapsed": true
   },
   "outputs": [],
   "source": [
    "new_train_rows = np.where(np.in1d(users[known], train_users))[0]\n",
    "new_test_rows  = np.where(np.in1d(users[known], test_users))[0]"
   ]
  },
  {
   "cell_type": "code",
   "execution_count": 57,
   "metadata": {
    "collapsed": true
   },
   "outputs": [],
   "source": [
    "X_train = X1_dataset[new_train_rows]\n",
    "X_test  = X1_dataset[new_test_rows]\n",
    "Y1_train = Y_train[np.where(X_dataset[train_rows].sum(axis=1)!=0)[0]]"
   ]
  },
  {
   "cell_type": "code",
   "execution_count": 58,
   "metadata": {
    "collapsed": false
   },
   "outputs": [
    {
     "name": "stdout",
     "output_type": "stream",
     "text": [
      "(4936, 3727987)\n",
      "(4936,)\n",
      "(1866, 3727987)\n"
     ]
    }
   ],
   "source": [
    "print X_train.shape\n",
    "print Y1_train.shape\n",
    "print X_test.shape"
   ]
  },
  {
   "cell_type": "markdown",
   "metadata": {},
   "source": [
    "Проведем отбор признаков."
   ]
  },
  {
   "cell_type": "code",
   "execution_count": 59,
   "metadata": {
    "collapsed": false
   },
   "outputs": [],
   "source": [
    "selector = SelectKBest(chi2, k=1000)\n",
    "\n",
    "X1_train = selector.fit_transform(X_train, Y1_train)\n",
    "X1_test  = selector.transform(X_test)"
   ]
  },
  {
   "cell_type": "code",
   "execution_count": 60,
   "metadata": {
    "collapsed": false
   },
   "outputs": [
    {
     "name": "stdout",
     "output_type": "stream",
     "text": [
      "[[u'#2015strokecong' u'#2016elect #tcot' u'#26dem' u'#26dem #wadem'\n",
      "  u'#4profit' u'#603forhrc' u'#99countymeet' u'#abetterway' u'#abt'\n",
      "  u'#adcon22' u'#adv9' u'#alaskanbushpeopl' u'#alpolit'\n",
      "  u'#alpolit #teammarco' u'#alwaystrump' u'#alwaystrump #trump2016'\n",
      "  u'#americanidol' u'#americanidol #idol' u'#amp' u'#apa16'\n",
      "  u'#apologizeforwhat' u'#apopka' u'#ar3' u'#arbsay' u'#arprep' u'#atheism'\n",
      "  u'#ayearwithh' u'#azcr' u'#azelectionfraud' u'#b1g #b1g' u'#baylor'\n",
      "  u'#bayridg' u'#bb17' u'#bc2dc16' u'#bcleg' u'#bcleg #bcpoli' u'#bcpoli'\n",
      "  u'#beatdemocrat' u'#bencarsonfact' u'#bencarsonfact #bencarsonwikipedia'\n",
      "  u'#bencarsonwikipedia' u'#berni' u'#berni #berniesand'\n",
      "  u'#berni #feelthebern' u'#bernie2016' u'#bernie2016 #bernieorbust'\n",
      "  u'#bernie2016 #berniesand' u'#bernie2016 #berniestrong'\n",
      "  u'#bernie2016 #birdiesand' u'#bernie2016 #debatewithberni'\n",
      "  u'#bernie2016 #demdeb' u'#bernie2016 #feelthebern'\n",
      "  u'#bernie2016 #philly4berni' u'#bernie2016 #stillsand'\n",
      "  u'#bernie2016 berni' u'#bernie2016 support' u'#berniebrigad'\n",
      "  u'#berniecat' u'#bernieinla' u'#bernieorbust'\n",
      "  u'#bernieorbust #bernieorbust' u'#bernieorbust #berniesand'\n",
      "  u'#bernieorbust #feelthebern' u'#bernieroseparad' u'#berniesand'\n",
      "  u'#berniesand #birdiesand' u'#berniesand #demdeb'\n",
      "  u'#berniesand #feelthebern' u'#berniestrong' u'#berniestrong #notmeu'\n",
      "  u'#betvot' u'#birdiesand' u'#birdiesand #feelthebern' u'#blindspot'\n",
      "  u'#bmoviemaniac' u'#bonnarool' u'#break' u'#breakemup' u'#brlive'\n",
      "  u'#bronxda' u'#buffaloaprilfool' u'#bush' u'#bush25' u'#bushfestiv'\n",
      "  u'#bushw12' u'#bythepeopl' u'#byu' u'#ca17' u'#ca24'\n",
      "  u'#cacruzcrew #cruzcrew' u'#canipeeintn' u'#carly2016' u'#carson2016'\n",
      "  u'#carsonc' u'#carsonproud' u'#casen' u'#casen #p2' u'#cat'\n",
      "  u'#cat #hillaryclinton' u'#caucusforberni' u'#ccot' u'#ccot #tcot'\n",
      "  u'#cdnpoli #pei' u'#cforrubio' u'#chafee2016' u'#chivsstl' u'#choosecruz'\n",
      "  u'#choosecruz #cruzcrew' u'#choosecruz #dumptrump'\n",
      "  u'#choosecruz #nyprimari' u'#choosecruz #pjnet' u'#choosecruz cruz'\n",
      "  u'#choosecruz trump' u'#christian' u'#cideb' u'#clc2015' u'#climat'\n",
      "  u'#climatechang' u'#clintoncent' u'#clintonhotel' u'#cnbcdgopdeb'\n",
      "  u'#cndtt' u'#cofannu' u'#coleg' u'#connecttheleft' u'#constantcontact'\n",
      "  u'#constitutionpipelin' u'#copolit' u'#cornhuskercaucu' u'#cowboysong'\n",
      "  u'#crsdecid' u'#crsdecid #gopdeb' u'#cruz' u'#cruz #cruz' u'#cruz2016'\n",
      "  u'#cruz2016 #cruzcrew' u'#cruzcrew' u'#cruzcrew #cruztovictori'\n",
      "  u'#cruzcrew #nevertrump' u'#cruzcrew #pjnet' u'#cruzcrew #tcot'\n",
      "  u'#cruzcrew #tedcruz' u'#cruzcrew amp' u'#cruzcrew cruz'\n",
      "  u'#cruzcrew join' u'#cruzcrew presid' u'#cruzgoodi' u'#cruztovictori'\n",
      "  u'#ctl' u'#ctot' u'#ctot #tcot' u'#ctpolit' u'#cyd2016' u'#dailyqotd'\n",
      "  u'#dailyqotd #qotd' u'#dailyquot' u'#dallasgop' u'#danburi' u'#datelin'\n",
      "  u'#dearcongress #governmentshutdown' u'#debatewithberni'\n",
      "  u'#debatewithberni #demdeb' u'#debatewithberni #feelthebern'\n",
      "  u'#debatewithberni berni' u'#demdeb' u'#demdeb #feelthebern'\n",
      "  u'#demdeb #hillary2016' u'#demdeb #imwithh' u'#demdeb #nyprimari'\n",
      "  u'#demdeb tonight' u'#demgirlprob #liberalgirlprob' u'#demgirlproblem'\n",
      "  u'#democracyspr' u'#democracyspr #feelthebern' u'#democrat'\n",
      "  u'#demsinphilli' u'#demtownhal' u'#demtownhal #imwithh' u'#dentondem'\n",
      "  u'#diaspora15' u'#diversitymatt' u'#diyforberni' u'#dlr' u'#dnc2012'\n",
      "  u'#doa' u'#dogslif' u'#donaldsdisord' u'#doyourjob' u'#drbencarson'\n",
      "  u'#dtmag' u'#dubw' u'#duckdynasti' u'#dumptrump #nevertrump'\n",
      "  u'#election2016 #gop' u'#electioney' u'#endcybernbulli' u'#evawi2016'\n",
      "  u'#everyhitsongev' u'#everyhitsongev hit' u'#everynevadan' u'#fairelect'\n",
      "  u'#fb' u'#fearthedeb' u'#feelthebern' u'#feelthebern #fitn'\n",
      "  u'#feelthebern #hillno' u'#feelthebern #imwithh'\n",
      "  u'#feelthebern #makehistori' u'#feelthebern #michiganprimari'\n",
      "  u'#feelthebern #nhpolit' u'#feelthebern #notmeu'\n",
      "  u'#feelthebern #nyprimari' u'#feelthebern #sanders2016'\n",
      "  u'#feelthebern #stillsand' u'#feelthebern #supertuesday'\n",
      "  u'#feelthebern #wacaucu' u'#feelthebern #weareberni'\n",
      "  u'#feelthebern #wisconsinprimari' u'#feelthebern bern'\n",
      "  u'#feelthebern berni' u'#feelthebern clinton' u'#feelthebern like'\n",
      "  u'#feelthebern revolut' u'#feelthebern sander' u'#feelthebern support'\n",
      "  u'#feelthebern vote' u'#feelthebern wisconsin' u'#feldmanforprez'\n",
      "  u'#fellowssc' u'#ff #followfriday' u'#flcd10' u'#fleethebern' u'#flythew'\n",
      "  u'#followfriday' u'#forthepeopl' u'#foxbusinessdeb'\n",
      "  u'#foxbusinessdeb #gopdeb' u'#ftbm' u'#ge11' u'#ge16' u'#ge2010' u'#gh'\n",
      "  u'#gh #lnsoaptweet' u'#globalprimari' u'#gop' u'#gop #potu' u'#gop #tcot'\n",
      "  u'#gop #teaparti' u'#gop #trump' u'#gop #trump2016' u'#gop2016'\n",
      "  u'#gopdeb' u'#gopdeb #makeamericagreatagain' u'#gopdeb #teammarco'\n",
      "  u'#gopwomen' u'#gopwomendecid' u'#governmentshutdown' u'#grahambid'\n",
      "  u'#growyourbush' u'#gsppb' u'#haiku' u'#hanniti' u'#hcconsolid'\n",
      "  u'#hearusroar' u'#hillary2016' u'#hillary2016 #hillaryclinton'\n",
      "  u'#hillary2016 #hilly' u'#hillary2016 #imwithh' u'#hillary4pr'\n",
      "  u'#hillaryclinton' u'#hillaryparadoxbook' u'#hillaryresearch'\n",
      "  u'#hilleast' u'#hilly' u'#hilly #imwithh' u'#hisen' u'#ia03'\n",
      "  u'#iamheidi #iamheidi' u'#idleg' u'#idolfinal' u'#idpjj' u'#il10' u'#il8'\n",
      "  u'#iloveobama' u'#importantwork' u'#imsosick' u'#imwithh'\n",
      "  u'#imwithh #sheswithu' u'#imwithh clinton' u'#imwithh done'\n",
      "  u'#imwithh hillari' u'#imwithh presid' u'#imwithh say'\n",
      "  u'#imwithh support' u'#imwithh vote' u'#inlegi' u'#insidecongress'\n",
      "  u'#inther' u'#iowacaucu #makeamericagreatagain' u'#iowaelect'\n",
      "  u'#islamkil' u'#itsfuntobealead' u'#ivot' u'#jeb16' u'#jeb2014'\n",
      "  u'#jebbushinbox' u'#juanvot' u'#kansaselect' u'#keepcalmvotedem'\n",
      "  u'#keepitintheground' u'#kellyfil' u'#klapper2016' u'#ksgop16'\n",
      "  u'#kutear #kutear' u'#lakeeri' u'#lakewood' u'#laleg' u'#leaveeu'\n",
      "  u'#lessigattuft' u'#letcarlydeb' u'#letsgo' u'#lgbtforhillari' u'#libdem'\n",
      "  u'#liberalamerica' u'#liberalamerica #uniteblu' u'#liberalartsgirl'\n",
      "  u'#liberalgirlprob' u'#liberalismin4word' u'#liberationnow'\n",
      "  u'#lnsmtournamentofth' u'#lnsmtournamentofth vote' u'#lnsoaptweet'\n",
      "  u'#loveboat' u'#lssc' u'#lsucr' u'#ma5' u'#maddow' u'#maga #trump2016'\n",
      "  u'#makeamericagreatagain' u'#makeamericagreatagain #teamtrump'\n",
      "  u'#makeamericagreatagain #trump' u'#makeamericagreatagain #trump2016'\n",
      "  u'#makeamericagreatagain #trumptrain' u'#makeamericagreatagain trump'\n",
      "  u'#makeasongsoundlikeabird' u'#makehistori' u'#man #man'\n",
      "  u'#marchforberni' u'#marcomentum' u'#marcorubio' u'#maroon' u'#masen'\n",
      "  u'#mbichapel' u'#mcfc2016' u'#mecf' u'#mi07' u'#michiganprimari'\n",
      "  u'#migop' u'#migop #tcot' u'#mndfl' u'#mnwild' u'#mo2' u'#moleg'\n",
      "  u'#mondaymantra' u'#montclair' u'#msnbctownhal' u'#mtleg'\n",
      "  u'#mtleg #mtpol' u'#mtpol' u'#mtvstar vote' u'#myadvicetotrump keep'\n",
      "  u'#nc03' u'#nc03 #ncpol' u'#nc04' u'#nc04 #ncpol' u'#nc10'\n",
      "  u'#nc10 #ncpol' u'#nc12' u'#nc12 #ncpol' u'#ncfortrump' u'#ndvote'\n",
      "  u'#nedem' u'#netd' u'#nevertrump' u'#nevertrump #nyprimari'\n",
      "  u'#nevertrump #tcot' u'#nevertrump #trust' u'#nevertrump #unitewithcruz'\n",
      "  u'#nevertrump trump' u'#newamericancenturi' u'#newhomesc' u'#newyorkvalu'\n",
      "  u'#nh02' u'#nhhouseofrep' u'#nhhouseofrep #nhpolit' u'#nhselect15'\n",
      "  u'#ningn' u'#nmpol' u'#nokxl #nokxl' u'#norristown' u'#nosex2016'\n",
      "  u'#notmeu' u'#notmeu #weareberni' u'#npe16nc' u'#npe16nc #whyiamgo'\n",
      "  u'#ny13' u'#ny22' u'#ny4berni' u'#ny4berni #nyprimari' u'#nyforberni'\n",
      "  u'#nyudeb' u'#occupycnn' u'#ocra' u'#ocyd' u'#ofthepeopl' u'#ohsen'\n",
      "  u'#ok04' u'#onlycruz' u'#openrnc' u'#or05' u'#oregonstandoff'\n",
      "  u'#oregonsummit' u'#ottawa' u'#out4freedom' u'#p2 #uniteblu' u'#pa10'\n",
      "  u'#panama' u'#pbischat' u'#peacelovevib' u'#pei' u'#pen' u'#perrychat'\n",
      "  u'#philly4berni' u'#pipe #pipe' u'#pjnet' u'#pmq' u'#pnpcbc'\n",
      "  u'#politicalrevolut' u'#pplinpolit' u'#prgrs16' u'#proud2berni' u'#qanda'\n",
      "  u'#queerher' u'#randliv' u'#rednationris' u'#rednationris #tcot' u'#redw'\n",
      "  u'#releasethereturn' u'#releasethetranscript' u'#republicanfemin'\n",
      "  u'#republicanprobz' u'#revinethi' u'#rhoa #rhoareunion' u'#ri'\n",
      "  u'#richfairforsen' u'#rockinghamranch' u'#rockypdx' u'#ronpaul' u'#rubio'\n",
      "  u'#rubio2016' u'#runbenrun' u'#rva' u'#safc' u'#sander' u'#sanders2016'\n",
      "  u'#sar' u'#scscore' u'#sdleg' u'#setxnew' u'#sexyhillari'\n",
      "  u'#sfgopeningday' u'#sgadeb' u'#sheswithu' u'#shevot'\n",
      "  u'#sixwordberniestori' u'#skynewstonight' u'#sleazydonald' u'#smart2015'\n",
      "  u'#sotuvb' u'#southbeach' u'#spa' u'#spreaker' u'#ssddberni'\n",
      "  u'#standwithferguson' u'#standwithrand' u'#stillsand' u'#stribpol'\n",
      "  u'#students4berni' u'#students4trump' u'#studentsforrubio' u'#susenate14'\n",
      "  u'#syria' u'#tallahasse' u'#tcot' u'#tcot #teaparti' u'#tcot #uniteright'\n",
      "  u'#tcot hey' u'#tcot via' u'#teamheidi' u'#teamironman' u'#teamjesu'\n",
      "  u'#teammarco' u'#teamtrump' u'#teamtrump #trump2016' u'#teaparti'\n",
      "  u'#techbro' u'#tedcruz' u'#tedcruz2016' u'#tedcruzcrim' u'#the100'\n",
      "  u'#thebachelorett' u'#thecruzshow' u'#thefiv' u'#theonelineyouhatemost'\n",
      "  u'#thetrigg' u'#theview' u'#thingsthatmatt' u'#thirdmonthmania'\n",
      "  u'#thunderup' u'#timeforhillary2016' u'#timetoturnuptheheat' u'#tjam'\n",
      "  u'#tjam #trivialtuesday' u'#tobcongress' u'#tomic' u'#tonedownforwhat'\n",
      "  u'#topoli' u'#topprog' u'#trainconvers' u'#trivialtuesday' u'#trump'\n",
      "  u'#trump #trump2016' u'#trump #trumptrain' u'#trump2012' u'#trump2016'\n",
      "  u'#trump2016 #trumptrain' u'#trump2016 #votetrump' u'#trump2016 thank'\n",
      "  u'#trump2016 trump' u'#trumpcloud' u'#trumpfail' u'#trumpgang'\n",
      "  u'#trumpinbmt' u'#trumplovespeck' u'#trumpsamerica' u'#trumptrain'\n",
      "  u'#trumpyeah' u'#tsam2016' u'#tunisia' u'#tx32' u'#txstcr' u'#tydvot'\n",
      "  u'#ucsb' u'#ulster' u'#unidosconberni' u'#uniteblu' u'#uniteright'\n",
      "  u'#unitewithcruz' u'#usaact' u'#usnotm' u'#utdem' u'#utpol' u'#va06'\n",
      "  u'#va10' u'#vawin' u'#vawinechat' u'#voav' u'#vote4trump' u'#voteberni'\n",
      "  u'#voteforbob' u'#votepinella' u'#votetogeth' u'#votetrump'\n",
      "  u'#votetrump2016' u'#vtgov' u'#vtpoli' u'#wacaucu' u'#wadem'\n",
      "  u'#wakethevot' u'#waleg' u'#walterscott' u'#waltham'\n",
      "  u'#washingtonsquarepark' u'#waterg' u'#weareberni' u'#wegotthi'\n",
      "  u'#westvirginiavot' u'#whenwillitstop' u'#whichhillari' u'#whipoli'\n",
      "  u'#whyiamgo' u'#wildforberni' u'#wiright' u'#wiright #wiunion'\n",
      "  u'#wmf2015' u'#wmu' u'#womenforberni' u'#womenfortrump' u'#wptvshow'\n",
      "  u'#wpxi' u'#wrestlemania' u'#wtdri' u'#wycaucu' u'#wyleg' u'#xfactor'\n",
      "  u'#yanke' u'#ydala' u'#yesimprotest' u'#yeswedid' u'#yournewhomepag'\n",
      "  u'#ypoedg' u'#yrnf' u'#yrwatchparti' u'#zambia' u'00100000' u'2010 gener'\n",
      "  u'2011 apr' u'2016 berni' u'30uae' u'318' u'accomplish noth'\n",
      "  u'act afford' u'add name' u'afford' u'afford care' u'afford colleg'\n",
      "  u'amp berni' u'amp bless' u'amp cruz' u'amp rubio' u'amp trump'\n",
      "  u'anagram' u'anna carson' u'anti trump' u'anxieti' u'attack trump'\n",
      "  u'augi' u'austin club' u'babe babe' u'bank phone' u'base home'\n",
      "  u'basil grow' u'bastrop' u'battl bum' u'bch' u'beat trump'\n",
      "  u'beck kristen' u'ben' u'ben carson' u'benton' u'benton counti' u'bern'\n",
      "  u'bern feel' u'berni' u'berni berni' u'berni campaign' u'berni come'\n",
      "  u'berni democrat' u'berni endors' u'berni get' u'berni go' u'berni help'\n",
      "  u'berni hillari' u'berni like' u'berni love' u'berni make' u'berni meet'\n",
      "  u'berni need' u'berni one' u'berni pleas' u'berni presid' u'berni ralli'\n",
      "  u'berni run' u'berni sander' u'berni see' u'berni show' u'berni support'\n",
      "  u'berni tonight' u'berni vote' u'berni want' u'berni win' u'berniesand'\n",
      "  u'bexar republican' u'biden biden' u'big cruz' u'bishop mike' u'boonevil'\n",
      "  u'bop' u'bork bork' u'breitbart' u'britain new' u'bsar' u'bum follow'\n",
      "  u'bush' u'bush jeb' u'bush kasich' u'bush kate' u'bush reggi'\n",
      "  u'bush school' u'bushi' u'cake cake' u'campaign cruz' u'campaign trump'\n",
      "  u'canva' u'capricorn' u'care health' u'carson' u'carson citi'\n",
      "  u'carson donni' u'carson eve' u'carson extrem' u'carson fort'\n",
      "  u'carson johnni' u'carson kasich' u'carson new' u'carson newman'\n",
      "  u'carson rubio' u'carson vote' u'casino max' u'catskil' u'ccyr'\n",
      "  u'central huron' u'ceo space' u'citadel' u'clap clap' u'class middl'\n",
      "  u'clb' u'clinton' u'clinton hillari' u'clinton secretari'\n",
      "  u'club republican' u'colleg dem' u'colorado' u'colorado deleg'\n",
      "  u'colorado gop' u'com congressional140' u'com politicsafrica'\n",
      "  u'com trumpdynam' u'commun disabl' u'compassionchurch_cc'\n",
      "  u'congress tell' u'congressional140' u'conserv' u'convent democrat'\n",
      "  u'corina' u'corpor' u'counti democrat' u'counti gop' u'counti miami'\n",
      "  u'counti republican' u'cpac' u'cruz' u'cruz cruz' u'cruz debat'\n",
      "  u'cruz deleg' u'cruz donald' u'cruz endors' u'cruz get' u'cruz good'\n",
      "  u'cruz heidi' u'cruz kasich' u'cruz like' u'cruz new' u'cruz one'\n",
      "  u'cruz penelop' u'cruz poll' u'cruz rubio' u'cruz rule' u'cruz said'\n",
      "  u'cruz santa' u'cruz say' u'cruz speak' u'cruz support' u'cruz talk'\n",
      "  u'cruz ted' u'cruz think' u'cruz tonight' u'cruz trump' u'cruz turn'\n",
      "  u'cruz watch' u'cruz win' u'cruz wisconsin' u'cruz would'\n",
      "  u'daili glennia' u'day lincoln' u'day nobama' u'day trump' u'deleg'\n",
      "  u'deleg gop' u'deleg trump' u'dem' u'dem meet' u'democraci' u'democrat'\n",
      "  u'democrat parti' u'democrat sander' u'democrat young' u'donald'\n",
      "  u'donald presid' u'donald say' u'donald trump' u'donni' u'dover'\n",
      "  u'dreamcult' u'dubbo' u'dudebro' u'endors sander' u'endors ted'\n",
      "  u'endors trump' u'enquir' u'equal' u'equal pay' u'exit' u'famili work'\n",
      "  u'firefox mozilla' u'fond lac' u'fossil' u'fossil fuel' u'fpr' u'frack'\n",
      "  u'free ship' u'fsn' u'fuck' u'fuck lmao' u'funni pic' u'fyd' u'get trump'\n",
      "  u'ghh' u'gingrich' u'girl rocket' u'glennia' u'glennia stori' u'gop'\n",
      "  u'gop primari' u'gope' u'graham' u'happi hour' u'happi rep' u'hay show'\n",
      "  u'health ideal' u'heidi' u'hillari' u'hillari love' u'hillari state'\n",
      "  u'hillari support' u'hillari tonight' u'hit trump' u'hitter hitter'\n",
      "  u'hotel intern' u'hous russel' u'howel' u'hrc' u'huron' u'iceland'\n",
      "  u'ikea' u'intent mass' u'jane' u'jeb' u'jenison' u'john kasich'\n",
      "  u'johnkasich' u'join pl' u'juss' u'kasich' u'kasich say' u'kasich trump'\n",
      "  u'keep truckin' u'kxel' u'ladbrok' u'lanka utv' u'lasagna' u'lead trump'\n",
      "  u'lewandowski' u'lexington' u'lie ted' u'lie trump' u'life trill'\n",
      "  u'like sander' u'like trump' u'like video' u'limon' u'lingl'\n",
      "  u'loan student' u'longmir' u'loveland' u'lyin' u'lyin ted' u'madoff'\n",
      "  u'make trump' u'manafort' u'marco' u'marco rubio' u'mark penn'\n",
      "  u'market network' u'mc' u'mccain obama' u'mccreari' u'medium trump'\n",
      "  u'modi' u'mozilla' u'naima' u'nation trump' u'network' u'network trump'\n",
      "  u'new sound' u'new trump' u'niall' u'nobama' u'obama presid' u'parc'\n",
      "  u'parc trump' u'park squar' u'park washington' u'paul' u'penelop'\n",
      "  u'phonebank' u'piec stupid' u'polisasss' u'polit revolut' u'polit via'\n",
      "  u'politicsafrica' u'poll trump' u'post song' u'prego' u'presid rubio'\n",
      "  u'presid trump' u'progress' u'prop trial' u'ralli trump' u'raptr'\n",
      "  u'read trump' u'redhil' u'reno' u'rest sinc' u'revolut' u'right trump'\n",
      "  u'rnc' u'romney' u'rt' u'rubio' u'rubio support' u'rubio think'\n",
      "  u'rubio trump' u'rubio vote' u'sander' u'sander support' u'sandpoint'\n",
      "  u'santorum' u'say trump' u'scanner' u'seb seb' u'shelton' u'sonori'\n",
      "  u'squar washington' u'sri utv' u'state trump' u'steal trump'\n",
      "  u'stop trump' u'street wall' u'superdeleg' u'support ted'\n",
      "  u'support trump' u'svyd' u'symphoni' u'talk trump' u'team trump' u'ted'\n",
      "  u'ted win' u'ted wisconsin' u'tedcruz' u'teen usa' u'tellurid'\n",
      "  u'think trump' u'today trump' u'tonight trump' u'top trump' u'truckin'\n",
      "  u'truckin trump' u'trumbul' u'trump' u'trump trump' u'trump video'\n",
      "  u'trump vote' u'trump want' u'trump way' u'trump win' u'trump wisconsin'\n",
      "  u'trumpdynam' u'trumpdynam www' u'trumpster' u'udem' u'utv' u'vatican'\n",
      "  u'vermont' u'watonga' u'work work' u'worker' u'yakima' u'ye ye' u'yoli']]\n"
     ]
    },
    {
     "name": "stderr",
     "output_type": "stream",
     "text": [
      "/Users/vadim/anaconda/lib/python2.7/site-packages/sklearn/utils/validation.py:386: DeprecationWarning: Passing 1d arrays as data is deprecated in 0.17 and willraise ValueError in 0.19. Reshape your data either using X.reshape(-1, 1) if your data has a single feature or X.reshape(1, -1) if it contains a single sample.\n",
      "  DeprecationWarning)\n"
     ]
    }
   ],
   "source": [
    "print selector.transform(features)"
   ]
  },
  {
   "cell_type": "markdown",
   "metadata": {},
   "source": [
    "Вариант задания генерируется на основании вашего ника в техносфере."
   ]
  },
  {
   "cell_type": "code",
   "execution_count": 61,
   "metadata": {
    "collapsed": false
   },
   "outputs": [
    {
     "name": "stdout",
     "output_type": "stream",
     "text": [
      "My homework 5 algorithm is: Logistic regression with L1 regularization optimized by stochastic gradient descent\n"
     ]
    }
   ],
   "source": [
    "USER_NAME = \"va.navrajnih\"\n",
    "OPTIMIZATION_ALGORITHMS = [\"stochastic gradient descent\", \"Newton method\"]\n",
    "REGULARIZATIONS = [\"L1\", \"L2\"]\n",
    "\n",
    "print \"My homework 5 algorithm is: Logistic regression with %s regularization optimized by %s\" % (\n",
    "    REGULARIZATIONS[hash(USER_NAME) % 2],\n",
    "    OPTIMIZATION_ALGORITHMS[hash(USER_NAME[::-1]) % 2]\n",
    ")"
   ]
  },
  {
   "cell_type": "markdown",
   "metadata": {},
   "source": [
    "Реализуем выбранный алгоритм"
   ]
  },
  {
   "cell_type": "code",
   "execution_count": 84,
   "metadata": {
    "collapsed": false
   },
   "outputs": [],
   "source": [
    "class LogisticRegression():\n",
    "    \n",
    "    def __init__(self, C=0.01, gb_step=0.001, eps=0.01, max_iter=10000):\n",
    "        self.C = C\n",
    "        self.gb_step = gb_step\n",
    "        self.eps = eps\n",
    "        self.max_iter = max_iter\n",
    "        \n",
    "        self.last5  = np.array([np.inf]*5)\n",
    "        \n",
    "        self.n_features = 0\n",
    "        self.n_samples = 0\n",
    "        \n",
    "    def eta(self, k):\n",
    "        return self.gb_step\n",
    "        \n",
    "    def sigma(self, x):\n",
    "        return (1 / (1 + np.exp(-np.dot(self.w.reshape(1,-1), x)))).reshape(-1, 1)\n",
    "        \n",
    "    def grad(self):\n",
    "        return np.sum([(self.sigma(x.reshape(-1, 1)) - self.Y[i])*x.reshape(-1, 1) for i, x in enumerate(self.X)])\n",
    "    \n",
    "    def regulator(self):\n",
    "        return np.sign(self.w) #L1 regularization\n",
    "    \n",
    "    def stoch_grad(self): #Stochastic Gradient Descent\n",
    "        idx = np.random.randint(0, self.n_samples)\n",
    "        x = self.X[idx]\n",
    "        return (self.sigma(x.reshape(-1, 1)) - self.Y[idx])*x.reshape(-1, 1)\n",
    "\n",
    "    def fit(self, X, Y=None):\n",
    "        if self.n_samples == 0:\n",
    "            self.X = X.toarray()\n",
    "            self.Y = Y.reshape(-1, 1)\n",
    "            self.n_features = X.shape[1]\n",
    "            self.n_samples = X.shape[0]\n",
    "            self.w = np.random.normal(loc=0, scale=0.01, size=self.n_features).reshape(-1, 1)\n",
    "        else:\n",
    "            self.X = np.concatenate((self.X, X.toarray()), axis=0)\n",
    "            self.Y = np.concatenate((self.Y, Y.reshape(-1, 1)), axis=0)\n",
    "            self.n_samples = X.shape[0]\n",
    "            \n",
    "        for k in xrange(self.max_iter):\n",
    "            dJ = self.stoch_grad()\n",
    "            self.last5[k%5] = np.linalg.norm(dJ)\n",
    "            self.w -= self.eta(k) * dJ + self.C * self.regulator()\n",
    "            \n",
    "            if self.eta(k)*self.last5.mean() < self.eps:\n",
    "                break\n",
    "\n",
    "    def predict_proba(self, X):\n",
    "        if self.n_samples == 0:\n",
    "            raise BaseException(\"You should firstly fit the data\")\n",
    "\n",
    "        return self.sigma(X.toarray().T)"
   ]
  },
  {
   "cell_type": "markdown",
   "metadata": {},
   "source": [
    "Разделим выборку с помощью методики кросс-валидации для того, чтобы настроить параметр регуляризации $C$"
   ]
  },
  {
   "cell_type": "code",
   "execution_count": 89,
   "metadata": {
    "collapsed": false
   },
   "outputs": [
    {
     "name": "stdout",
     "output_type": "stream",
     "text": [
      "2\n"
     ]
    }
   ],
   "source": [
    "C = [0.01, 0.1, 1, 10, 100, 1000, 10000]\n",
    "\n",
    "def select_reg_parameter(C, X, Y):\n",
    "    results = []\n",
    "\n",
    "    for c in C:\n",
    "        kf = KFold(X.shape[0], n_folds=5)\n",
    "        tmp = []\n",
    "        for train, test in kf:\n",
    "            cls = LogisticRegression(eps=0., gb_step=0.001, C=c, max_iter=10000)\n",
    "            cls.fit(X[train], Y[train])\n",
    "            tmp.append(roc_auc_score(Y[test], cls.predict_proba(X[test])))\n",
    "            \n",
    "        results.append(np.mean(tmp))\n",
    "    \n",
    "    return results.index(max(results))\n",
    "\n",
    "index = select_reg_parameter(C, X1_train, Y1_train)\n",
    "print index"
   ]
  },
  {
   "cell_type": "markdown",
   "metadata": {},
   "source": [
    "Выбираем наилучшее значение $C$, и классифицируем неизвестных пользователей и строим ROC-кривую"
   ]
  },
  {
   "cell_type": "code",
   "execution_count": 90,
   "metadata": {
    "collapsed": false
   },
   "outputs": [
    {
     "name": "stdout",
     "output_type": "stream",
     "text": [
      "Area under the ROC curve : 0.684989\n"
     ]
    },
    {
     "data": {
      "image/png": "[encoded data removed]",
      "text/plain": [
       "<matplotlib.figure.Figure at 0x11a767250>"
      ]
     },
     "metadata": {},
     "output_type": "display_data"
    }
   ],
   "source": [
    "def classify(X, Y, test_size, C):  \n",
    "    cls = LogisticRegression(eps=0., gb_step=0.001, C=C, max_iter=10000)\n",
    "    test_cnt  = int(X.shape[0] * test_size)\n",
    "\n",
    "    cls.fit(X[:-test_cnt], Y[:-test_cnt])\n",
    "    predictions = cls.predict_proba(X[-test_cnt:])\n",
    "    fpr, tpr, thr = roc_curve(Y[-test_cnt:], predictions)\n",
    "    roc_auc = roc_auc_score(Y[-test_cnt:], predictions)\n",
    "    return tpr, fpr, roc_auc\n",
    "\n",
    "tpr, fpr, roc_auc = classify(X1_train, Y1_train, 0.3, C[index])\n",
    "\n",
    "print \"Area under the ROC curve : %f\" % roc_auc\n",
    "\n",
    "def plot_roc_curve(tpr, fpr, roc_auc):\n",
    "    \"\"\"Plot ROC curve\"\"\"\n",
    "    pl.figure(figsize=(10, 10))\n",
    "    pl.plot(fpr, tpr)\n",
    "    plt.plot([0, 1], [0, 1], 'k--')\n",
    "    plt.xlim([0.0, 1.0])\n",
    "    plt.ylim([0.0, 1.0])\n",
    "    plt.xlabel('False Positive Rate')\n",
    "    plt.ylabel('True Positive Rate')\n",
    "    plt.show()\n",
    "\n",
    "plot_roc_curve(tpr, fpr, roc_auc)"
   ]
  },
  {
   "cell_type": "markdown",
   "metadata": {},
   "source": [
    "С помощью полученной модели предсказываем категории для неизвестных пользователей из соревнования и загружаем на kaggle в нужном формате. ДЗ принимается только при наличии загруженных данных на kaggle."
   ]
  },
  {
   "cell_type": "code",
   "execution_count": 86,
   "metadata": {
    "collapsed": false
   },
   "outputs": [],
   "source": [
    "cls = LogisticRegression(eps=0., gb_step=0.001, C=C[index], max_iter=10000)\n",
    "cls.fit(X1_train, Y1_train)\n",
    "predictions = cls.predict_proba(X1_test)"
   ]
  },
  {
   "cell_type": "code",
   "execution_count": 68,
   "metadata": {
    "collapsed": true
   },
   "outputs": [],
   "source": [
    "with open('results.txt', 'w') as f:\n",
    "    f.write('uid,cat\\n')\n",
    "    \n",
    "    for user, res in zip(users[known_test], predictions):\n",
    "        f.write('%d,%f\\n' % (user, res))\n",
    "        \n",
    "    for user in users[unknown_test]:\n",
    "        f.write('%d,%f\\n' % (user, 0.5))"
   ]
  }
 ],
 "metadata": {
  "kernelspec": {
   "display_name": "Python 2",
   "language": "python",
   "name": "python2"
  },
  "language_info": {
   "codemirror_mode": {
    "name": "ipython",
    "version": 2
   },
   "file_extension": ".py",
   "mimetype": "text/x-python",
   "name": "python",
   "nbconvert_exporter": "python",
   "pygments_lexer": "ipython2",
   "version": "2.7.11"
  }
 },
 "nbformat": 4,
 "nbformat_minor": 0
}
